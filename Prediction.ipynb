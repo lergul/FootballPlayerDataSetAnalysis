{
 "cells": [
  {
   "cell_type": "markdown",
   "metadata": {},
   "source": [
    "# Introduction\n",
    "This project goal is finding a answers some question like, how is the change footplayer market value and how the feature effect that. \n",
    "Our dataset have 74 features and 18207 number of examples. Firstly, I will try to analyze dataset and make a visualazition before the machine learning model. After this step we will understand much better our dataset and maybe some of the feauteres are not necessary for us also some of them need to be convert string to integer. \n"
   ]
  },
  {
   "cell_type": "markdown",
   "metadata": {},
   "source": [
    "# Step 0 - Load Data\n",
    "Reading data and checking initial feature. Also I will import some library that are necessary."
   ]
  },
  {
   "cell_type": "code",
   "execution_count": 1,
   "metadata": {},
   "outputs": [],
   "source": [
    "#some useful library and necessary things\n",
    "import pandas as pd\n",
    "import numpy as np \n",
    "\n",
    "\n",
    "from scipy.stats import pearsonr\n",
    "\n",
    "import matplotlib.pyplot as plt\n",
    "import seaborn as sns\n",
    "\n",
    "from IPython.display import display\n",
    "\n"
   ]
  },
  {
   "cell_type": "code",
   "execution_count": 3,
   "metadata": {},
   "outputs": [
    {
     "data": {
      "text/html": [
       "<div>\n",
       "<style scoped>\n",
       "    .dataframe tbody tr th:only-of-type {\n",
       "        vertical-align: middle;\n",
       "    }\n",
       "\n",
       "    .dataframe tbody tr th {\n",
       "        vertical-align: top;\n",
       "    }\n",
       "\n",
       "    .dataframe thead th {\n",
       "        text-align: right;\n",
       "    }\n",
       "</style>\n",
       "<table border=\"1\" class=\"dataframe\">\n",
       "  <thead>\n",
       "    <tr style=\"text-align: right;\">\n",
       "      <th></th>\n",
       "      <th>Unnamed: 0</th>\n",
       "      <th>ID</th>\n",
       "      <th>Name</th>\n",
       "      <th>Age</th>\n",
       "      <th>Photo</th>\n",
       "      <th>Nationality</th>\n",
       "      <th>Flag</th>\n",
       "      <th>Overall</th>\n",
       "      <th>Potential</th>\n",
       "      <th>Club</th>\n",
       "      <th>...</th>\n",
       "      <th>Composure</th>\n",
       "      <th>Marking</th>\n",
       "      <th>StandingTackle</th>\n",
       "      <th>SlidingTackle</th>\n",
       "      <th>GKDiving</th>\n",
       "      <th>GKHandling</th>\n",
       "      <th>GKKicking</th>\n",
       "      <th>GKPositioning</th>\n",
       "      <th>GKReflexes</th>\n",
       "      <th>Release Clause</th>\n",
       "    </tr>\n",
       "  </thead>\n",
       "  <tbody>\n",
       "    <tr>\n",
       "      <th>0</th>\n",
       "      <td>0</td>\n",
       "      <td>158023</td>\n",
       "      <td>L. Messi</td>\n",
       "      <td>31</td>\n",
       "      <td>https://cdn.sofifa.org/players/4/19/158023.png</td>\n",
       "      <td>Argentina</td>\n",
       "      <td>https://cdn.sofifa.org/flags/52.png</td>\n",
       "      <td>94</td>\n",
       "      <td>94</td>\n",
       "      <td>FC Barcelona</td>\n",
       "      <td>...</td>\n",
       "      <td>96.0</td>\n",
       "      <td>33.0</td>\n",
       "      <td>28.0</td>\n",
       "      <td>26.0</td>\n",
       "      <td>6.0</td>\n",
       "      <td>11.0</td>\n",
       "      <td>15.0</td>\n",
       "      <td>14.0</td>\n",
       "      <td>8.0</td>\n",
       "      <td>€226.5M</td>\n",
       "    </tr>\n",
       "    <tr>\n",
       "      <th>1</th>\n",
       "      <td>1</td>\n",
       "      <td>20801</td>\n",
       "      <td>Cristiano Ronaldo</td>\n",
       "      <td>33</td>\n",
       "      <td>https://cdn.sofifa.org/players/4/19/20801.png</td>\n",
       "      <td>Portugal</td>\n",
       "      <td>https://cdn.sofifa.org/flags/38.png</td>\n",
       "      <td>94</td>\n",
       "      <td>94</td>\n",
       "      <td>Juventus</td>\n",
       "      <td>...</td>\n",
       "      <td>95.0</td>\n",
       "      <td>28.0</td>\n",
       "      <td>31.0</td>\n",
       "      <td>23.0</td>\n",
       "      <td>7.0</td>\n",
       "      <td>11.0</td>\n",
       "      <td>15.0</td>\n",
       "      <td>14.0</td>\n",
       "      <td>11.0</td>\n",
       "      <td>€127.1M</td>\n",
       "    </tr>\n",
       "    <tr>\n",
       "      <th>2</th>\n",
       "      <td>2</td>\n",
       "      <td>190871</td>\n",
       "      <td>Neymar Jr</td>\n",
       "      <td>26</td>\n",
       "      <td>https://cdn.sofifa.org/players/4/19/190871.png</td>\n",
       "      <td>Brazil</td>\n",
       "      <td>https://cdn.sofifa.org/flags/54.png</td>\n",
       "      <td>92</td>\n",
       "      <td>93</td>\n",
       "      <td>Paris Saint-Germain</td>\n",
       "      <td>...</td>\n",
       "      <td>94.0</td>\n",
       "      <td>27.0</td>\n",
       "      <td>24.0</td>\n",
       "      <td>33.0</td>\n",
       "      <td>9.0</td>\n",
       "      <td>9.0</td>\n",
       "      <td>15.0</td>\n",
       "      <td>15.0</td>\n",
       "      <td>11.0</td>\n",
       "      <td>€228.1M</td>\n",
       "    </tr>\n",
       "    <tr>\n",
       "      <th>3</th>\n",
       "      <td>3</td>\n",
       "      <td>193080</td>\n",
       "      <td>De Gea</td>\n",
       "      <td>27</td>\n",
       "      <td>https://cdn.sofifa.org/players/4/19/193080.png</td>\n",
       "      <td>Spain</td>\n",
       "      <td>https://cdn.sofifa.org/flags/45.png</td>\n",
       "      <td>91</td>\n",
       "      <td>93</td>\n",
       "      <td>Manchester United</td>\n",
       "      <td>...</td>\n",
       "      <td>68.0</td>\n",
       "      <td>15.0</td>\n",
       "      <td>21.0</td>\n",
       "      <td>13.0</td>\n",
       "      <td>90.0</td>\n",
       "      <td>85.0</td>\n",
       "      <td>87.0</td>\n",
       "      <td>88.0</td>\n",
       "      <td>94.0</td>\n",
       "      <td>€138.6M</td>\n",
       "    </tr>\n",
       "    <tr>\n",
       "      <th>4</th>\n",
       "      <td>4</td>\n",
       "      <td>192985</td>\n",
       "      <td>K. De Bruyne</td>\n",
       "      <td>27</td>\n",
       "      <td>https://cdn.sofifa.org/players/4/19/192985.png</td>\n",
       "      <td>Belgium</td>\n",
       "      <td>https://cdn.sofifa.org/flags/7.png</td>\n",
       "      <td>91</td>\n",
       "      <td>92</td>\n",
       "      <td>Manchester City</td>\n",
       "      <td>...</td>\n",
       "      <td>88.0</td>\n",
       "      <td>68.0</td>\n",
       "      <td>58.0</td>\n",
       "      <td>51.0</td>\n",
       "      <td>15.0</td>\n",
       "      <td>13.0</td>\n",
       "      <td>5.0</td>\n",
       "      <td>10.0</td>\n",
       "      <td>13.0</td>\n",
       "      <td>€196.4M</td>\n",
       "    </tr>\n",
       "  </tbody>\n",
       "</table>\n",
       "<p>5 rows × 89 columns</p>\n",
       "</div>"
      ],
      "text/plain": [
       "   Unnamed: 0      ID               Name  Age  \\\n",
       "0           0  158023           L. Messi   31   \n",
       "1           1   20801  Cristiano Ronaldo   33   \n",
       "2           2  190871          Neymar Jr   26   \n",
       "3           3  193080             De Gea   27   \n",
       "4           4  192985       K. De Bruyne   27   \n",
       "\n",
       "                                            Photo Nationality  \\\n",
       "0  https://cdn.sofifa.org/players/4/19/158023.png   Argentina   \n",
       "1   https://cdn.sofifa.org/players/4/19/20801.png    Portugal   \n",
       "2  https://cdn.sofifa.org/players/4/19/190871.png      Brazil   \n",
       "3  https://cdn.sofifa.org/players/4/19/193080.png       Spain   \n",
       "4  https://cdn.sofifa.org/players/4/19/192985.png     Belgium   \n",
       "\n",
       "                                  Flag  Overall  Potential  \\\n",
       "0  https://cdn.sofifa.org/flags/52.png       94         94   \n",
       "1  https://cdn.sofifa.org/flags/38.png       94         94   \n",
       "2  https://cdn.sofifa.org/flags/54.png       92         93   \n",
       "3  https://cdn.sofifa.org/flags/45.png       91         93   \n",
       "4   https://cdn.sofifa.org/flags/7.png       91         92   \n",
       "\n",
       "                  Club  ... Composure Marking StandingTackle  SlidingTackle  \\\n",
       "0         FC Barcelona  ...      96.0    33.0           28.0           26.0   \n",
       "1             Juventus  ...      95.0    28.0           31.0           23.0   \n",
       "2  Paris Saint-Germain  ...      94.0    27.0           24.0           33.0   \n",
       "3    Manchester United  ...      68.0    15.0           21.0           13.0   \n",
       "4      Manchester City  ...      88.0    68.0           58.0           51.0   \n",
       "\n",
       "  GKDiving  GKHandling  GKKicking  GKPositioning GKReflexes Release Clause  \n",
       "0      6.0        11.0       15.0           14.0        8.0        €226.5M  \n",
       "1      7.0        11.0       15.0           14.0       11.0        €127.1M  \n",
       "2      9.0         9.0       15.0           15.0       11.0        €228.1M  \n",
       "3     90.0        85.0       87.0           88.0       94.0        €138.6M  \n",
       "4     15.0        13.0        5.0           10.0       13.0        €196.4M  \n",
       "\n",
       "[5 rows x 89 columns]"
      ]
     },
     "metadata": {},
     "output_type": "display_data"
    },
    {
     "name": "stdout",
     "output_type": "stream",
     "text": [
      "Total number of rows: 18207\n",
      "Total number of columns: 89\n"
     ]
    }
   ],
   "source": [
    "#Read data from .csv file\n",
    "\n",
    "f_players = pd.read_csv(\"train.csv\")\n",
    "\n",
    "display(f_players.head())\n",
    "print(f\"Total number of rows: {f_players.shape[0]}\\nTotal number of columns: {f_players.shape[1]}\")\n",
    "\n"
   ]
  },
  {
   "cell_type": "markdown",
   "metadata": {},
   "source": [
    "As you can see above there are some useless features for us. We can drop these are on dataset and in this way, we can study more efficiently.These are unnecessary for us. ID,Name,Photo,Flag,Club logo,Real Face,Jersey Number,Joined, Realese Clause and Loaned from"
   ]
  },
  {
   "cell_type": "code",
   "execution_count": null,
   "metadata": {},
   "outputs": [],
   "source": [
    "display(fp.head())\n",
    "print(f\"Total number of rows: {fp.shape[0]}\\nTotal number of columns: {fp.shape[1]}\")\n"
   ]
  },
  {
   "cell_type": "code",
   "execution_count": null,
   "metadata": {},
   "outputs": [],
   "source": [
    "\n",
    "# fp is our new data set. \n",
    "drop_columns = [ 'Unnamed: 0', 'ID','Nationality','Name', 'Photo','Preferred Foot', 'Flag','Club Logo', 'Body Type', 'Real Face', 'Jersey Number','Joined', 'Loaned From','Release Clause','Contract Valid Until']\n",
    "fp = f_players.copy()\n",
    "fp.drop(drop_columns, axis =1 , inplace = True)\n",
    "#fp.drop(['Unnamed: 0,'ID', 'Name', 'Photo','Flag','Club Logo','Body Type', 'Real Face','Jersey Number','Joined', 'Loaned From','Release Clause','Contract Valid Until'], axis=1, inplace=True)\n",
    "#fp.drop(fp.columns[[0]], axis=1,inplace = True)"
   ]
  },
  {
   "cell_type": "code",
   "execution_count": null,
   "metadata": {},
   "outputs": [],
   "source": [
    "\" Before the analysis value we need to change type of Value to float.\"\n",
    "\" Example: Kevin de Bruyne Value = €102M\t €102*1000000 and wage= €355K\t €355000\"\n",
    "\n",
    "def str2float(amount):\n",
    "    \"\"\"\n",
    "    This function help to us for convert string to float.\n",
    "       \n",
    "    \"\"\"\n",
    "   \n",
    "    if amount[-1] == 'M':\n",
    "        return float (amount[1:-1])*1000000\n",
    "    elif amount[-1] == 'K':\n",
    "        return float (amount[1:-1])*1000\n",
    "    else:\n",
    "        return float(amount[1:])\n",
    "    \n",
    "fp['Value_Float'] = fp['Value'].apply(lambda x: str2float(x))\n",
    "fp['Wage_Float'] = fp ['Wage'].apply(lambda x: str2float(x))\n",
    "\n",
    "#Now we do not need string value and wage. We can drop them\n",
    "\n",
    "fp.drop(['Value','Wage'] ,axis =1 , inplace = True)"
   ]
  },
  {
   "cell_type": "code",
   "execution_count": null,
   "metadata": {},
   "outputs": [],
   "source": [
    "display(fp.head())\n",
    "print(f\"Total number of rows: {fp.shape[0]}\\nTotal number of columns: {fp.shape[1]}\")"
   ]
  },
  {
   "cell_type": "raw",
   "metadata": {},
   "source": [
    "!!!!On this step, I will check the missing data and if we have that clarify the where is it..!!!!"
   ]
  },
  {
   "cell_type": "code",
   "execution_count": null,
   "metadata": {},
   "outputs": [],
   "source": [
    "display(fp.isnull().sum())\n",
    "\n",
    "plt.show()"
   ]
  },
  {
   "cell_type": "code",
   "execution_count": null,
   "metadata": {},
   "outputs": [],
   "source": [
    "## Club has a 241 missing and GKKicking 48, and we are dropping these missing datapoints\n",
    "\n",
    "fp = fp.loc[fp['Club'].notnull()].copy()\n",
    "fp = fp.loc[fp['GKKicking'].notnull()].copy()\n"
   ]
  },
  {
   "cell_type": "code",
   "execution_count": null,
   "metadata": {},
   "outputs": [],
   "source": [
    "display(fp.isnull().sum())"
   ]
  },
  {
   "cell_type": "markdown",
   "metadata": {},
   "source": [
    "# Step 1\n",
    "Value (Target Datapoints).\n",
    "\n",
    "Mainly we are focusing on players market values. On this part, we will looking this area."
   ]
  },
  {
   "cell_type": "code",
   "execution_count": null,
   "metadata": {},
   "outputs": [],
   "source": [
    "def distribution_and_stats_plot(variable,Name):\n",
    "    \"\"\"For better understanding for players value distribution.I will draw a plot charts\"\"\"\n",
    "    \n",
    "    fig, ax = plt.subplots(nrows=2,figsize =(15,12),gridspec_kw={'height_ratios': [2,1]})\n",
    "    sns.distplot(variable, ax = ax[0])\n",
    "    ax[0].set(title = f\"Distribution of {Name}\",xlabel='',ylabel='')\n",
    "    ax[0].set_yticks([])\n",
    "    \n",
    "    ax[1]=sns.boxplot(x=variable.columns[0],y=None,data=variable)\n",
    "    ax[1].set_title(f\"Boxplot of {Name}\")\n",
    "    plt.show()\n",
    "    #sns.boxplot(x=\"distance\", y=\"method\", data=planets,  whis=[0, 100], width=.6, palette=\"vlag\")\n",
    "   \n",
    "\n",
    "\n",
    "    \n",
    "    display(variable.describe())\n",
    "    \n",
    "distribution_and_stats_plot(fp[[\"Value_Float\"]]/1000000,'Player Values (\\N{euro sign}M)')\n",
    "\n"
   ]
  },
  {
   "cell_type": "markdown",
   "metadata": {},
   "source": [
    "### Step 1.1\n",
    "\n",
    "#### Player  Value\n",
    "As you can see the above, our players generally have low market value and for this reason, we can not see general \n",
    "the distribution of that. High prices players are almost not seeing on the chart. For that, we can use a logarithmic distribution chart, it shows us more clearly."
   ]
  },
  {
   "cell_type": "code",
   "execution_count": null,
   "metadata": {},
   "outputs": [],
   "source": [
    "# In my data set there are 11 values equal 0 that is why, I added plus 1 for every values for converting log \n",
    "# After that I reaileze that 11 players old person and low overall rating. They do not any good affect on model.\n",
    "# For this reason I deleted them and now my graphs is better than befor more clear and understandable.\n",
    "#\n",
    "#Convert to log\n",
    "\n",
    "fp[\"Value_Float_log\"] = np.log(fp[\"Value_Float\"]+1)\n",
    "\n",
    "#delete value_log=0 \n",
    "fp =fp[fp[\"Value_Float_log\"] !=0]\n",
    "\n",
    "distribution_and_stats_plot(fp[[\"Value_Float_log\"]],'Logaritmic Value')\n"
   ]
  },
  {
   "cell_type": "markdown",
   "metadata": {},
   "source": [
    "### Step 1.2\n",
    "#### Age\n",
    "The step where the players are shown to the age distribution!!"
   ]
  },
  {
   "cell_type": "code",
   "execution_count": null,
   "metadata": {},
   "outputs": [],
   "source": [
    "distribution_and_stats_plot(fp[[\"Age\"]],'Player Ages')"
   ]
  },
  {
   "cell_type": "code",
   "execution_count": null,
   "metadata": {},
   "outputs": [],
   "source": [
    "from scipy.stats import pearsonr\n",
    "\n",
    "plt.scatter(x=fp[\"Age\"],y=fp[\"Value_Float_log\"],alpha=0.2)\n",
    "plt.suptitle(\"Age vs Value\",fontsize=15,y=0.95)\n",
    "plt.xlabel(\"Age\")\n",
    "plt.ylabel(\"Value\")\n",
    "plt.show()\n",
    "\n",
    "print(f\"Pearson correlation = {pearsonr(fp['Value_Float'],fp['Age'])[0]}\")"
   ]
  },
  {
   "cell_type": "markdown",
   "metadata": {},
   "source": [
    "### Step 1.3\n",
    "\n",
    "#### Player Position\n"
   ]
  },
  {
   "cell_type": "code",
   "execution_count": null,
   "metadata": {},
   "outputs": [],
   "source": [
    "fp['Position'].value_counts(normalize= True).plot(kind='bar')\n",
    "plt.title(\"Distribution of Football Players according to their positions.\")\n",
    "plt.ylabel(\"Ratio\")\n",
    "plt.show()\n",
    "\n",
    "print(f\"Number of positions= {len(fp['Position'].unique())}\")"
   ]
  },
  {
   "cell_type": "markdown",
   "metadata": {},
   "source": [
    "As you can see the above graphic, the most common positions are ST and GK. \n",
    "\n",
    "We have 27 unique positions. It's too much for analysis that's why we can classify these as, Attacker, midfielder, defender and goalkeeper. For that I will create new function."
   ]
  },
  {
   "cell_type": "code",
   "execution_count": null,
   "metadata": {},
   "outputs": [],
   "source": [
    "def classify_position(position):\n",
    "    \n",
    "    Position_dict= { 'Attack' : ['ST','LS','RS','CF','RF','LF'],\n",
    "                    'Midfield': ['CM','RM','LM','CAM','CDM','LCM','RCM','LW','RW','RDM','LDM','LAM','RAM'],\n",
    "                     'Defence': ['CB','LB','RB','RCB','LCB','RWB','LWB'],\n",
    "                   'GoalKeeper':['GK']}\n",
    "    \n",
    "    for group , position_list in Position_dict.items():\n",
    "        \n",
    "        if position in position_list:\n",
    "            return group\n",
    "    \n",
    "    return np.nan"
   ]
  },
  {
   "cell_type": "code",
   "execution_count": null,
   "metadata": {},
   "outputs": [],
   "source": [
    "fp['Position_classify'] = fp['Position'].apply(classify_position)\n",
    "\n",
    "## We classify our dataset, and we do not need fp['Position']\n",
    "fp.drop(['Position'] ,axis =1 , inplace = True)"
   ]
  },
  {
   "cell_type": "code",
   "execution_count": null,
   "metadata": {},
   "outputs": [],
   "source": [
    "fp['Position_classify'].value_counts(normalize= True).plot(kind='bar')\n",
    "plt.title(\"Distribution of Football Players according to their positions.\")\n",
    "plt.ylabel(\"Ratio\")\n",
    "plt.show()\n",
    "\n",
    "##This chart shows a clearer distribution of players' positions."
   ]
  },
  {
   "cell_type": "code",
   "execution_count": null,
   "metadata": {},
   "outputs": [],
   "source": [
    "plt.figure(figsize=(15,10))\n",
    "sns.boxplot(x=\"Value_Float_log\",y=\"Position_classify\",data=fp)\n",
    "plt.title(\"BoxPlot: logarithmic value by positions\")\n",
    "plt.show()"
   ]
  },
  {
   "cell_type": "markdown",
   "metadata": {},
   "source": [
    "As you can see above, the distribution's Daily Market Value is very close to each. Attacker and Midfield players have average highs value and the goalkeeper average low, which is expected."
   ]
  },
  {
   "cell_type": "markdown",
   "metadata": {},
   "source": [
    "### Step 1.4\n",
    "\n",
    "#### Player Potential\n",
    "\n",
    "In this section, we will examine the distribution of the predicted potential of football players."
   ]
  },
  {
   "cell_type": "code",
   "execution_count": null,
   "metadata": {},
   "outputs": [],
   "source": [
    "distribution_and_stats_plot(fp[[\"Potential\"]],'Player Potential')"
   ]
  },
  {
   "cell_type": "markdown",
   "metadata": {},
   "source": [
    "The chart is more or less normally distributed and with a mean 71.32.\n",
    "\n",
    "Also, we can examine in detail the player potential according to their positions."
   ]
  },
  {
   "cell_type": "code",
   "execution_count": null,
   "metadata": {},
   "outputs": [],
   "source": [
    "plt.figure(figsize=(15,10))\n",
    "sns.boxplot(x=\"Potential\",y=\"Position_classify\",data=fp)\n",
    "plt.title(\"BoxPlot of player potential by position\")\n",
    "plt.show()"
   ]
  },
  {
   "cell_type": "markdown",
   "metadata": {},
   "source": [
    "The potential of player does not seem much different for each position. Next step, we will look relationship between player potential and player values. "
   ]
  },
  {
   "cell_type": "code",
   "execution_count": null,
   "metadata": {},
   "outputs": [],
   "source": [
    "sns.jointplot(x='Potential',y=\"Value_Float_log\",data=fp,kind='reg')\n",
    "plt.suptitle(\"Player Potential vs Value Log\", fontsize=15,y=1.05)\n",
    "plt.show()"
   ]
  },
  {
   "cell_type": "markdown",
   "metadata": {},
   "source": [
    "The graphic turned out as expected. As you can see above, if a player has high potential it also has high market values. They are correlated.\n",
    "\n",
    "This situation also expected between overall rating and potential. These are correlated. I wiil show them on next step."
   ]
  },
  {
   "cell_type": "code",
   "execution_count": null,
   "metadata": {},
   "outputs": [],
   "source": [
    "plt.scatter(x=fp[\"Potential\"],y=fp[\"Overall\"],alpha=0.2)\n",
    "plt.suptitle(\"Potential vs Overal Rating\",fontsize=15,y=0.95)\n",
    "plt.xlabel(\"Potential Rating\")\n",
    "plt.ylabel(\"Overall Rating\")\n",
    "plt.show()\n",
    "\n",
    "print(f\"Pearson correlation = {pearsonr(fp['Potential'],fp['Overall'])[0]}\")"
   ]
  },
  {
   "cell_type": "markdown",
   "metadata": {},
   "source": [
    "You can see the above graphs, potential rating is higher than overall rating, that makes sense. But correlation is not enough for the eliminate one feature, for this reason I will keep both of them.\n",
    "\n",
    "Next step, I will look difference between potential and overall rating. It can be a nice feature to show the effect of \n",
    "potential rating increase on market value."
   ]
  },
  {
   "cell_type": "markdown",
   "metadata": {},
   "source": [
    "\n",
    "# BUNU BELKİ SİLEBİLİRSİN SADECE YORUM YAPMAK İÇİN KULLANILIYOR "
   ]
  },
  {
   "cell_type": "code",
   "execution_count": null,
   "metadata": {},
   "outputs": [],
   "source": [
    "# Potential Growth\n",
    "fp['PotentialGrowth'] = fp['Potential']-fp['Overall']"
   ]
  },
  {
   "cell_type": "code",
   "execution_count": null,
   "metadata": {},
   "outputs": [],
   "source": [
    "fp['PotentialGrowth'].value_counts(normalize= True).plot(kind='bar')\n",
    "plt.title(\"Distribution of Football Players Potential Growth.\")\n",
    "plt.xlabel(\"Potential Growth\")\n",
    "plt.ylabel(\"Ratio\")\n",
    "plt.show()"
   ]
  },
  {
   "cell_type": "markdown",
   "metadata": {},
   "source": [
    "yorum yaz blalallalalalalallala\n",
    "\n",
    "\n"
   ]
  },
  {
   "cell_type": "code",
   "execution_count": null,
   "metadata": {},
   "outputs": [],
   "source": [
    "plt.figure(figsize=(12,10))\n",
    "plt.scatter(x=\"PotentialGrowth\",y=\"Value_Float_log\",data=fp)\n",
    "plt.suptitle(\"Potential Growth vs Value Log\",fontsize=15,y=0.95)\n",
    "plt.xlabel(\"Potential Growth \")\n",
    "plt.ylabel(\"Value Log\")\n",
    "plt.show()\n",
    "\n",
    "print(f\"Pearson correlation = {pearsonr(fp['Value_Float'],fp['PotentialGrowth'])[0]}\")"
   ]
  },
  {
   "cell_type": "code",
   "execution_count": null,
   "metadata": {},
   "outputs": [],
   "source": [
    "plt.scatter(x=fp[\"PotentialGrowth\"],y=fp[\"Overall\"],alpha=0.2)\n",
    "plt.suptitle(\"PotentialGrowth vs Overal Rating\",fontsize=15,y=0.95)\n",
    "plt.xlabel(\"PotentialGrowth\")\n",
    "plt.ylabel(\"Overall Rating\")\n",
    "plt.show()\n",
    "\n",
    "print(f\"Pearson correlation = {pearsonr(fp['PotentialGrowth'],fp['Overall'])[0]}\")"
   ]
  },
  {
   "cell_type": "code",
   "execution_count": null,
   "metadata": {},
   "outputs": [],
   "source": [
    "#### yorumm "
   ]
  },
  {
   "cell_type": "code",
   "execution_count": null,
   "metadata": {},
   "outputs": [],
   "source": []
  },
  {
   "cell_type": "code",
   "execution_count": null,
   "metadata": {},
   "outputs": [],
   "source": [
    "#del fp['PotentialGrowth']"
   ]
  },
  {
   "cell_type": "markdown",
   "metadata": {},
   "source": [
    "### Step 1.5\n",
    "\n",
    "#### Player Overall Rating"
   ]
  },
  {
   "cell_type": "code",
   "execution_count": null,
   "metadata": {},
   "outputs": [],
   "source": [
    "distribution_and_stats_plot(fp[[\"Overall\"]],'Overall Rating')"
   ]
  },
  {
   "cell_type": "markdown",
   "metadata": {},
   "source": [
    "Overal rating is normally distributed with a average of 66, minimum 46 and maximum 94."
   ]
  },
  {
   "cell_type": "code",
   "execution_count": null,
   "metadata": {},
   "outputs": [],
   "source": [
    "plt.figure(figsize=(15,10))\n",
    "sns.boxplot(x=\"Overall\",y=\"Position_classify\",data=fp)\n",
    "plt.title(\"BoxPlot of Overall Player Rating by position\")\n",
    "plt.show()"
   ]
  },
  {
   "cell_type": "markdown",
   "metadata": {},
   "source": [
    "Except for Goalkeepers, other position more or less has the same overall rating. This interesting because as we see before on the logarithmic value by positions chart attackers and midfields market value higher than the others. "
   ]
  },
  {
   "cell_type": "code",
   "execution_count": null,
   "metadata": {},
   "outputs": [],
   "source": [
    "sns.jointplot(x='Overall',y=\"Value_Float_log\",data=fp,kind='reg')\n",
    "plt.suptitle(\"Overal Player Rating vs Value Log\", fontsize=15,y=1.05)\n",
    "plt.show()\n",
    "\n",
    "print(f\"Pearson correlation = {pearsonr(fp['Value_Float_log'],fp['Overall'])[0]}\")\n",
    "print(f\"R2= {pearsonr(fp['Value_Float_log'],fp['Overall'])[0]**2}\")"
   ]
  },
  {
   "cell_type": "code",
   "execution_count": null,
   "metadata": {},
   "outputs": [],
   "source": [
    "### Yorummmm yapılabilir."
   ]
  },
  {
   "cell_type": "code",
   "execution_count": null,
   "metadata": {},
   "outputs": [],
   "source": [
    "from IPython.core.display import display, HTML\n",
    "display(HTML(\"<b>Feature Correlations to the target variable, log(Value_Float)<b>\"))\n",
    "fp.corr()[\"Value_Float_log\"].sort_values(ascending=False).iloc[1:].plot(kind='barh',figsize=(10,15))\n",
    "plt.xlabel(\"Correlation with target variable\")\n",
    "plt.show()"
   ]
  },
  {
   "cell_type": "code",
   "execution_count": null,
   "metadata": {},
   "outputs": [],
   "source": []
  },
  {
   "cell_type": "code",
   "execution_count": null,
   "metadata": {},
   "outputs": [],
   "source": []
  },
  {
   "cell_type": "markdown",
   "metadata": {},
   "source": [
    "# Step 2 \n",
    " \n",
    "## Modeling \n"
   ]
  },
  {
   "cell_type": "markdown",
   "metadata": {},
   "source": [
    "#### 2.1 Data Pre.\n"
   ]
  },
  {
   "cell_type": "code",
   "execution_count": null,
   "metadata": {},
   "outputs": [],
   "source": [
    "from sklearn.model_selection import train_test_split\n",
    "from sklearn.utils import shuffle\n",
    "\n",
    "def loaddataset():\n",
    "    \"\"\"Datayı yükleeee\"\"\"\n",
    "    \n",
    "    #read and load initial data \n",
    "    f_players = pd.read_csv(\"train.csv\")\n",
    "    \n",
    "    # fp is our new data set. \n",
    "    drop_columns = [ 'Unnamed: 0', 'ID','Name', 'Photo', 'Flag','Club Logo', 'Body Type', 'Real Face', 'Jersey Number','Joined', 'Loaned From','Release Clause','Contract Valid Until']\n",
    "    fp = f_players.copy()\n",
    "    fp.drop(drop_columns, axis =1 , inplace = True)\n",
    "    \n",
    "    #Change the type of wage and value\n",
    "    fp['Value_Float'] = fp['Value'].apply(lambda x: str2float(x))\n",
    "    fp['Wage_Float'] = fp ['Wage'].apply(lambda x: str2float(x))\n",
    "    \n",
    "    #Delete the prev value and wage\n",
    "    fp.drop(['Value','Wage'] ,axis =1 , inplace = True)\n",
    "    \n",
    "    ## Dropping these missing datapoints\n",
    "    fp = fp.loc[fp['Club'].notnull()].copy()\n",
    "    fp = fp.loc[fp['GKKicking'].notnull()].copy()\n",
    "    \n",
    "    #Convert to log\n",
    "    fp[\"Value_Float_log\"] = np.log(fp[\"Value_Float\"]+1)\n",
    "    fp =fp[fp[\"Value_Float_log\"] !=0]\n",
    "    fp.drop([\"Value_Float\"] ,axis =1 , inplace = True)\n",
    "    \n",
    "    # Potential Growth\n",
    "    fp['PotentialGrowth'] = fp['Potential']-fp['Overall']\n",
    "    \n",
    "    \n",
    "    \n",
    "    # Shuffled the dataframe list\n",
    "    fp_sh = shuffle(fp, random_state = 0)\n",
    "    \n",
    "    #train and test data seperated\n",
    "    return train_test_split( fp_sh.iloc[:,:-1],\n",
    "                             fp_sh.iloc[:,-1],\n",
    "                             test_size=0.33,\n",
    "                             random_state=0)"
   ]
  },
  {
   "cell_type": "code",
   "execution_count": null,
   "metadata": {},
   "outputs": [],
   "source": [
    "##training and final test sets\n",
    "X_train, X_test, y_train, y_test = loaddataset()"
   ]
  },
  {
   "cell_type": "code",
   "execution_count": null,
   "metadata": {},
   "outputs": [],
   "source": [
    "X_test"
   ]
  },
  {
   "cell_type": "markdown",
   "metadata": {},
   "source": [
    "## Step 2.2 Baseline\n"
   ]
  },
  {
   "cell_type": "code",
   "execution_count": null,
   "metadata": {},
   "outputs": [],
   "source": [
    "### yorummmmm"
   ]
  },
  {
   "cell_type": "code",
   "execution_count": null,
   "metadata": {},
   "outputs": [],
   "source": [
    "#dictionary for the store results\n",
    "results = {}\n",
    "\n",
    "### r-squared\n",
    "\n",
    "def calculate_r2(trainingdata,r2):\n",
    "    \n",
    "    x = len(trainingdata)\n",
    "    y = len(trainingdata.columns)\n",
    "    \n",
    "    return 1-((1-r2)*(x-1)/(x-y-1))"
   ]
  },
  {
   "cell_type": "code",
   "execution_count": null,
   "metadata": {},
   "outputs": [],
   "source": [
    "from sklearn.linear_model import LinearRegression\n",
    "from sklearn.metrics import mean_squared_error, r2_score\n",
    "\n",
    "x = X_train [\"Potential\"].values.reshape(-1,1)\n",
    "y = y_train.values.reshape(-1,1)\n",
    "\n",
    "baseline_m = LinearRegression()\n",
    "baseline_m.fit(x,y)\n",
    "\n",
    "baseline_p = baseline_m.predict(X_train[\"Potential\"].values.reshape(-1,1))\n",
    "baseline_rmse = np.sqrt(mean_squared_error(y_train,baseline_p))\n",
    "baseline_r2 = r2_score(y_train,baseline_p)\n",
    "baseline_adj_r2 = calculate_r2(X_train[[\"Potential\"]],baseline_r2)\n",
    "\n",
    "###\n",
    "results['Baseline Model- Linear Regression'] = {'RMSE':baseline_rmse, 'ADJ.R2':baseline_r2}\n",
    "\n",
    "pd.DataFrame.from_dict(results,orient= 'index')"
   ]
  },
  {
   "cell_type": "markdown",
   "metadata": {},
   "source": [
    "##### 222"
   ]
  },
  {
   "cell_type": "markdown",
   "metadata": {},
   "source": [
    "## Step 2.3 Multiple"
   ]
  },
  {
   "cell_type": "code",
   "execution_count": null,
   "metadata": {},
   "outputs": [],
   "source": [
    "## \n",
    "X_train_mult = pd.get_dummies(X_train,drop_first=True)\n",
    "X_test_mult = pd.get_dummies(X_test,drop_first=True)\n",
    "\n",
    "X_train_mult.head()"
   ]
  },
  {
   "cell_type": "code",
   "execution_count": null,
   "metadata": {},
   "outputs": [],
   "source": [
    "import statsmodels.api as sm\n",
    "\n"
   ]
  },
  {
   "cell_type": "code",
   "execution_count": null,
   "metadata": {},
   "outputs": [],
   "source": []
  },
  {
   "cell_type": "code",
   "execution_count": null,
   "metadata": {},
   "outputs": [],
   "source": []
  },
  {
   "cell_type": "code",
   "execution_count": null,
   "metadata": {},
   "outputs": [],
   "source": []
  },
  {
   "cell_type": "code",
   "execution_count": null,
   "metadata": {},
   "outputs": [],
   "source": []
  },
  {
   "cell_type": "code",
   "execution_count": null,
   "metadata": {},
   "outputs": [],
   "source": []
  },
  {
   "cell_type": "code",
   "execution_count": null,
   "metadata": {},
   "outputs": [],
   "source": []
  },
  {
   "cell_type": "code",
   "execution_count": null,
   "metadata": {},
   "outputs": [],
   "source": [
    "def gradientDescent(X,Y,theta,alpha,n_iteration):\n",
    "    \n",
    "    \"\"\"RADIENTDESCENT Performs gradient descent to learn theta\"\"\"\n",
    "    import numpy as np\n",
    "    m = len(Y)\n",
    "    J_hist = np.zeros((n_iteration,1))\n",
    "    \n",
    "    for iteration in range(n_iteration):\n",
    "        h = np.dot(X,theta)\n",
    "        \n",
    "        for i in range(X.shape[1]):\n",
    "            col = X.columns[i]\n",
    "            theta[i]=theta[i]-alpha/m*sum(np.dot(X[col],(np.subtract(Y,h))))\n",
    "            \n",
    "        \n",
    "        J_hist"
   ]
  }
 ],
 "metadata": {
  "kernelspec": {
   "display_name": "Python 3",
   "language": "python",
   "name": "python3"
  },
  "language_info": {
   "codemirror_mode": {
    "name": "ipython",
    "version": 3
   },
   "file_extension": ".py",
   "mimetype": "text/x-python",
   "name": "python",
   "nbconvert_exporter": "python",
   "pygments_lexer": "ipython3",
   "version": "3.8.5"
  }
 },
 "nbformat": 4,
 "nbformat_minor": 4
}
